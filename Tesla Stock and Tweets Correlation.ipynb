{
 "cells": [
  {
   "cell_type": "markdown",
   "metadata": {},
   "source": [
    "Import the required modules\n",
    "We'll get the tweets data using Snscrape"
   ]
  },
  {
   "cell_type": "code",
   "execution_count": 1,
   "metadata": {},
   "outputs": [],
   "source": [
    "# Import the required Python libraries\n",
    "import snscrape.modules.twitter as sntwitter # To get tweets\n",
    "import pandas as pd\n",
    "import numpy as np"
   ]
  },
  {
   "cell_type": "markdown",
   "metadata": {},
   "source": []
  },
  {
   "cell_type": "code",
   "execution_count": 8,
   "metadata": {},
   "outputs": [],
   "source": [
    "from tqdm.notebook import tqdm, trange # To show how much progress is done when running time-consuming codes"
   ]
  },
  {
   "cell_type": "code",
   "execution_count": 22,
   "metadata": {},
   "outputs": [],
   "source": [
    "# Declare the max number of tweets to extract\n",
    "maxTweets = 150000"
   ]
  },
  {
   "cell_type": "code",
   "execution_count": 35,
   "metadata": {},
   "outputs": [],
   "source": [
    "tweets_list2 = []\n",
    "tweets_df2 = pd.DataFrame()"
   ]
  },
  {
   "cell_type": "markdown",
   "metadata": {},
   "source": [
    "These are keywords from tweetsthat we will extract\n",
    "Go on and add how many ever you think are relevant to your search"
   ]
  },
  {
   "cell_type": "code",
   "execution_count": 26,
   "metadata": {},
   "outputs": [],
   "source": [
    "keyword = '(tesla OR tsla OR Elon Musk)'"
   ]
  },
  {
   "cell_type": "markdown",
   "metadata": {},
   "source": [
    "Get the tweets from Snscrape\n",
    "Change the since and until dates to the time period you want to use"
   ]
  },
  {
   "cell_type": "code",
   "execution_count": 27,
   "metadata": {},
   "outputs": [
    {
     "data": {
      "application/vnd.jupyter.widget-view+json": {
       "model_id": "29678d4c7fb741d988402fc7322f598b",
       "version_major": 2,
       "version_minor": 0
      },
      "text/plain": [
       "HBox(children=(HTML(value=''), FloatProgress(value=0.0, max=10.0), HTML(value='')))"
      ]
     },
     "metadata": {},
     "output_type": "display_data"
    },
    {
     "name": "stdout",
     "output_type": "stream",
     "text": [
      "\n"
     ]
    }
   ],
   "source": [
    "# Get tweets and store it in a dataframe\n",
    "# Getting tweets only between 22/02/21 and 27/02/21\n",
    "p_bar = tqdm(range(10))\n",
    "number=1.0\n",
    "# Using TwitterSearchScraper to scrape data and append tweets to list\n",
    "for i,tweet in enumerate(sntwitter.TwitterSearchScraper(keyword + ' since:2021-02-22 until:2021-02-27 lang:en').get_items()):\n",
    "    if i>maxTweets:\n",
    "        break\n",
    "    number+=1\n",
    "    tweets_list2.append([tweet.date, tweet.id, tweet.content, tweet.username])\n",
    "    p_bar.set_description(f'Working on \"{number}\"')"
   ]
  },
  {
   "cell_type": "code",
   "execution_count": 46,
   "metadata": {},
   "outputs": [],
   "source": [
    "# Creating a dataframe from the tweets list above\n",
    "tweets_df2 = pd.DataFrame(tweets_list2, columns=['Datetime', 'Tweet Id', 'Text', 'Username'])"
   ]
  },
  {
   "cell_type": "code",
   "execution_count": 29,
   "metadata": {},
   "outputs": [
    {
     "data": {
      "text/plain": [
       "31032"
      ]
     },
     "execution_count": 29,
     "metadata": {},
     "output_type": "execute_result"
    }
   ],
   "source": [
    "# Number of tweets obtained\n",
    "len(tweets_df2)"
   ]
  },
  {
   "cell_type": "code",
   "execution_count": 30,
   "metadata": {},
   "outputs": [
    {
     "data": {
      "text/plain": [
       "31032"
      ]
     },
     "execution_count": 30,
     "metadata": {},
     "output_type": "execute_result"
    }
   ],
   "source": [
    "len(tweets_list2)"
   ]
  },
  {
   "cell_type": "code",
   "execution_count": 47,
   "metadata": {},
   "outputs": [
    {
     "data": {
      "text/html": [
       "<div>\n",
       "<style scoped>\n",
       "    .dataframe tbody tr th:only-of-type {\n",
       "        vertical-align: middle;\n",
       "    }\n",
       "\n",
       "    .dataframe tbody tr th {\n",
       "        vertical-align: top;\n",
       "    }\n",
       "\n",
       "    .dataframe thead th {\n",
       "        text-align: right;\n",
       "    }\n",
       "</style>\n",
       "<table border=\"1\" class=\"dataframe\">\n",
       "  <thead>\n",
       "    <tr style=\"text-align: right;\">\n",
       "      <th></th>\n",
       "      <th>Datetime</th>\n",
       "      <th>Tweet Id</th>\n",
       "      <th>Text</th>\n",
       "      <th>Username</th>\n",
       "    </tr>\n",
       "  </thead>\n",
       "  <tbody>\n",
       "  </tbody>\n",
       "</table>\n",
       "</div>"
      ],
      "text/plain": [
       "Empty DataFrame\n",
       "Columns: [Datetime, Tweet Id, Text, Username]\n",
       "Index: []"
      ]
     },
     "execution_count": 47,
     "metadata": {},
     "output_type": "execute_result"
    }
   ],
   "source": [
    "tweets_df2.tail()"
   ]
  },
  {
   "cell_type": "code",
   "execution_count": 34,
   "metadata": {},
   "outputs": [],
   "source": [
    "# Save a dataset to a csv\n",
    "#tweets_df2.to_csv(\"TeslaTweets22ndTo26thFeb.csv\")"
   ]
  },
  {
   "cell_type": "code",
   "execution_count": null,
   "metadata": {},
   "outputs": [],
   "source": []
  },
  {
   "cell_type": "code",
   "execution_count": 85,
   "metadata": {},
   "outputs": [],
   "source": [
    "tweets_df2 = pd.read_csv(\"TeslaTweets22ndTo26thFeb.csv\")"
   ]
  },
  {
   "cell_type": "code",
   "execution_count": 86,
   "metadata": {},
   "outputs": [],
   "source": [
    "# Add null probability and sentiment columns to the dataframe\n",
    "prob_array = np.empty(len(tweets_df2))\n",
    "sent_array = np.empty(len(tweets_df2))\n",
    "prob_array[:] = np.NaN\n",
    "sent_array[:] = np.NaN"
   ]
  },
  {
   "cell_type": "markdown",
   "metadata": {},
   "source": [
    "Add null columns 'Probability' and 'Sentiment' to the dataframe\n",
    "We will add the values to it in the subsequent steps"
   ]
  },
  {
   "cell_type": "code",
   "execution_count": 88,
   "metadata": {},
   "outputs": [
    {
     "data": {
      "text/html": [
       "<div>\n",
       "<style scoped>\n",
       "    .dataframe tbody tr th:only-of-type {\n",
       "        vertical-align: middle;\n",
       "    }\n",
       "\n",
       "    .dataframe tbody tr th {\n",
       "        vertical-align: top;\n",
       "    }\n",
       "\n",
       "    .dataframe thead th {\n",
       "        text-align: right;\n",
       "    }\n",
       "</style>\n",
       "<table border=\"1\" class=\"dataframe\">\n",
       "  <thead>\n",
       "    <tr style=\"text-align: right;\">\n",
       "      <th></th>\n",
       "      <th>Unnamed: 0</th>\n",
       "      <th>Datetime</th>\n",
       "      <th>Tweet Id</th>\n",
       "      <th>Text</th>\n",
       "      <th>Username</th>\n",
       "      <th>Probability</th>\n",
       "      <th>Sentiment</th>\n",
       "    </tr>\n",
       "  </thead>\n",
       "  <tbody>\n",
       "    <tr>\n",
       "      <th>0</th>\n",
       "      <td>0</td>\n",
       "      <td>2021-02-26 23:59:16+00:00</td>\n",
       "      <td>1365451398435987456</td>\n",
       "      <td>@CygnusSlaughter @CLSGL1 @dchaill @Sarvy803213...</td>\n",
       "      <td>RubyEggRollz</td>\n",
       "      <td>NaN</td>\n",
       "      <td>NaN</td>\n",
       "    </tr>\n",
       "    <tr>\n",
       "      <th>1</th>\n",
       "      <td>1</td>\n",
       "      <td>2021-02-26 23:59:07+00:00</td>\n",
       "      <td>1365451357109510145</td>\n",
       "      <td>If #HCMC hits a $1 within a few months I’m buy...</td>\n",
       "      <td>KChistiansen</td>\n",
       "      <td>NaN</td>\n",
       "      <td>NaN</td>\n",
       "    </tr>\n",
       "    <tr>\n",
       "      <th>2</th>\n",
       "      <td>2</td>\n",
       "      <td>2021-02-26 23:58:23+00:00</td>\n",
       "      <td>1365451173939924994</td>\n",
       "      <td>@A_Woman_Speaks @elonmusk @Tesla I have a rush...</td>\n",
       "      <td>ET1HOME</td>\n",
       "      <td>NaN</td>\n",
       "      <td>NaN</td>\n",
       "    </tr>\n",
       "    <tr>\n",
       "      <th>3</th>\n",
       "      <td>3</td>\n",
       "      <td>2021-02-26 23:58:23+00:00</td>\n",
       "      <td>1365451173877145600</td>\n",
       "      <td>@CLSGL1 @RubyEggRollz @dchaill @Sarvy80321399 ...</td>\n",
       "      <td>CygnusSlaughter</td>\n",
       "      <td>NaN</td>\n",
       "      <td>NaN</td>\n",
       "    </tr>\n",
       "    <tr>\n",
       "      <th>4</th>\n",
       "      <td>4</td>\n",
       "      <td>2021-02-26 23:58:18+00:00</td>\n",
       "      <td>1365451152020672513</td>\n",
       "      <td>@BrianPBosche “Oh, We changed the product numb...</td>\n",
       "      <td>Asma_twiter</td>\n",
       "      <td>NaN</td>\n",
       "      <td>NaN</td>\n",
       "    </tr>\n",
       "  </tbody>\n",
       "</table>\n",
       "</div>"
      ],
      "text/plain": [
       "   Unnamed: 0                   Datetime             Tweet Id  \\\n",
       "0           0  2021-02-26 23:59:16+00:00  1365451398435987456   \n",
       "1           1  2021-02-26 23:59:07+00:00  1365451357109510145   \n",
       "2           2  2021-02-26 23:58:23+00:00  1365451173939924994   \n",
       "3           3  2021-02-26 23:58:23+00:00  1365451173877145600   \n",
       "4           4  2021-02-26 23:58:18+00:00  1365451152020672513   \n",
       "\n",
       "                                                Text         Username  \\\n",
       "0  @CygnusSlaughter @CLSGL1 @dchaill @Sarvy803213...     RubyEggRollz   \n",
       "1  If #HCMC hits a $1 within a few months I’m buy...     KChistiansen   \n",
       "2  @A_Woman_Speaks @elonmusk @Tesla I have a rush...          ET1HOME   \n",
       "3  @CLSGL1 @RubyEggRollz @dchaill @Sarvy80321399 ...  CygnusSlaughter   \n",
       "4  @BrianPBosche “Oh, We changed the product numb...      Asma_twiter   \n",
       "\n",
       "   Probability  Sentiment  \n",
       "0          NaN        NaN  \n",
       "1          NaN        NaN  \n",
       "2          NaN        NaN  \n",
       "3          NaN        NaN  \n",
       "4          NaN        NaN  "
      ]
     },
     "execution_count": 88,
     "metadata": {},
     "output_type": "execute_result"
    }
   ],
   "source": [
    "tweets_df2['Probability']=prob_array\n",
    "tweets_df2['Sentiment']=sent_array\n",
    "tweets_df2.head()"
   ]
  },
  {
   "cell_type": "code",
   "execution_count": 89,
   "metadata": {},
   "outputs": [],
   "source": [
    "# Replace NaN to empty strings for Sentiment column\n",
    "tweets_df2['Sentiment'] = tweets_df2['Sentiment'].replace(np.nan, '', regex=True)"
   ]
  },
  {
   "cell_type": "code",
   "execution_count": 90,
   "metadata": {},
   "outputs": [
    {
     "data": {
      "text/html": [
       "<div>\n",
       "<style scoped>\n",
       "    .dataframe tbody tr th:only-of-type {\n",
       "        vertical-align: middle;\n",
       "    }\n",
       "\n",
       "    .dataframe tbody tr th {\n",
       "        vertical-align: top;\n",
       "    }\n",
       "\n",
       "    .dataframe thead th {\n",
       "        text-align: right;\n",
       "    }\n",
       "</style>\n",
       "<table border=\"1\" class=\"dataframe\">\n",
       "  <thead>\n",
       "    <tr style=\"text-align: right;\">\n",
       "      <th></th>\n",
       "      <th>Unnamed: 0</th>\n",
       "      <th>Datetime</th>\n",
       "      <th>Tweet Id</th>\n",
       "      <th>Text</th>\n",
       "      <th>Username</th>\n",
       "      <th>Probability</th>\n",
       "      <th>Sentiment</th>\n",
       "    </tr>\n",
       "  </thead>\n",
       "  <tbody>\n",
       "    <tr>\n",
       "      <th>0</th>\n",
       "      <td>0</td>\n",
       "      <td>2021-02-26 23:59:16+00:00</td>\n",
       "      <td>1365451398435987456</td>\n",
       "      <td>@CygnusSlaughter @CLSGL1 @dchaill @Sarvy803213...</td>\n",
       "      <td>RubyEggRollz</td>\n",
       "      <td>NaN</td>\n",
       "      <td></td>\n",
       "    </tr>\n",
       "    <tr>\n",
       "      <th>1</th>\n",
       "      <td>1</td>\n",
       "      <td>2021-02-26 23:59:07+00:00</td>\n",
       "      <td>1365451357109510145</td>\n",
       "      <td>If #HCMC hits a $1 within a few months I’m buy...</td>\n",
       "      <td>KChistiansen</td>\n",
       "      <td>NaN</td>\n",
       "      <td></td>\n",
       "    </tr>\n",
       "    <tr>\n",
       "      <th>2</th>\n",
       "      <td>2</td>\n",
       "      <td>2021-02-26 23:58:23+00:00</td>\n",
       "      <td>1365451173939924994</td>\n",
       "      <td>@A_Woman_Speaks @elonmusk @Tesla I have a rush...</td>\n",
       "      <td>ET1HOME</td>\n",
       "      <td>NaN</td>\n",
       "      <td></td>\n",
       "    </tr>\n",
       "    <tr>\n",
       "      <th>3</th>\n",
       "      <td>3</td>\n",
       "      <td>2021-02-26 23:58:23+00:00</td>\n",
       "      <td>1365451173877145600</td>\n",
       "      <td>@CLSGL1 @RubyEggRollz @dchaill @Sarvy80321399 ...</td>\n",
       "      <td>CygnusSlaughter</td>\n",
       "      <td>NaN</td>\n",
       "      <td></td>\n",
       "    </tr>\n",
       "    <tr>\n",
       "      <th>4</th>\n",
       "      <td>4</td>\n",
       "      <td>2021-02-26 23:58:18+00:00</td>\n",
       "      <td>1365451152020672513</td>\n",
       "      <td>@BrianPBosche “Oh, We changed the product numb...</td>\n",
       "      <td>Asma_twiter</td>\n",
       "      <td>NaN</td>\n",
       "      <td></td>\n",
       "    </tr>\n",
       "  </tbody>\n",
       "</table>\n",
       "</div>"
      ],
      "text/plain": [
       "   Unnamed: 0                   Datetime             Tweet Id  \\\n",
       "0           0  2021-02-26 23:59:16+00:00  1365451398435987456   \n",
       "1           1  2021-02-26 23:59:07+00:00  1365451357109510145   \n",
       "2           2  2021-02-26 23:58:23+00:00  1365451173939924994   \n",
       "3           3  2021-02-26 23:58:23+00:00  1365451173877145600   \n",
       "4           4  2021-02-26 23:58:18+00:00  1365451152020672513   \n",
       "\n",
       "                                                Text         Username  \\\n",
       "0  @CygnusSlaughter @CLSGL1 @dchaill @Sarvy803213...     RubyEggRollz   \n",
       "1  If #HCMC hits a $1 within a few months I’m buy...     KChistiansen   \n",
       "2  @A_Woman_Speaks @elonmusk @Tesla I have a rush...          ET1HOME   \n",
       "3  @CLSGL1 @RubyEggRollz @dchaill @Sarvy80321399 ...  CygnusSlaughter   \n",
       "4  @BrianPBosche “Oh, We changed the product numb...      Asma_twiter   \n",
       "\n",
       "   Probability Sentiment  \n",
       "0          NaN            \n",
       "1          NaN            \n",
       "2          NaN            \n",
       "3          NaN            \n",
       "4          NaN            "
      ]
     },
     "execution_count": 90,
     "metadata": {},
     "output_type": "execute_result"
    }
   ],
   "source": [
    "tweets_df2.head()"
   ]
  },
  {
   "cell_type": "code",
   "execution_count": 91,
   "metadata": {},
   "outputs": [],
   "source": [
    "probs=[]\n",
    "sentiments=[]"
   ]
  },
  {
   "cell_type": "code",
   "execution_count": 53,
   "metadata": {},
   "outputs": [
    {
     "name": "stdout",
     "output_type": "stream",
     "text": [
      "\n"
     ]
    }
   ],
   "source": [
    "# Import the required library containing the sentiment analysis model\n",
    "import flair\n",
    "from flair.models import TextClassifier\n",
    "from flair.data import Sentence"
   ]
  },
  {
   "cell_type": "code",
   "execution_count": 54,
   "metadata": {},
   "outputs": [
    {
     "name": "stdout",
     "output_type": "stream",
     "text": [
      "2021-03-01 09:43:18,410 loading file C:\\Users\\ACER\\.flair\\models\\sentiment-en-mix-distillbert_3.1.pt\n"
     ]
    }
   ],
   "source": [
    "# Load the English language trained model\n",
    "sentiment_model = TextClassifier.load('en-sentiment')"
   ]
  },
  {
   "cell_type": "markdown",
   "metadata": {},
   "source": [
    "This step will predict the sentiment of each tweet and calculate the probability of that sentiment\n",
    "Then update the value in the dataframe"
   ]
  },
  {
   "cell_type": "code",
   "execution_count": 92,
   "metadata": {},
   "outputs": [
    {
     "data": {
      "application/vnd.jupyter.widget-view+json": {
       "model_id": "bc83e41d12fc414d88bd79b06eccfb2b",
       "version_major": 2,
       "version_minor": 0
      },
      "text/plain": [
       "HBox(children=(HTML(value=''), FloatProgress(value=0.0, max=10.0), HTML(value='')))"
      ]
     },
     "metadata": {},
     "output_type": "display_data"
    },
    {
     "name": "stdout",
     "output_type": "stream",
     "text": [
      "\n",
      "\n"
     ]
    }
   ],
   "source": [
    "# Perform sentiment analysis on each tweet and assign the probability and sentiment value to the respective column\n",
    "p_bar = tqdm(range(10))\n",
    "number=0\n",
    "# Get probability and sentiment from each tweet from dataframe\n",
    "for index in tweets_df2.index:\n",
    "    number+=1\n",
    "    sentence = Sentence(tweets_df2.at[index, 'Text'])\n",
    "    sentiment_model.predict(sentence)\n",
    "    tweets_df2.at[index, 'Probability']=sentence.labels[0].score\n",
    "    tweets_df2.at[index, 'Sentiment']=sentence.labels[0].value\n",
    "    probs.append(sentence.labels[0].score)\n",
    "    sentiments.append(sentence.labels[0].value)\n",
    "    p_bar.set_description(f'Working on \"{number}\"')"
   ]
  },
  {
   "cell_type": "code",
   "execution_count": 93,
   "metadata": {},
   "outputs": [
    {
     "data": {
      "text/html": [
       "<div>\n",
       "<style scoped>\n",
       "    .dataframe tbody tr th:only-of-type {\n",
       "        vertical-align: middle;\n",
       "    }\n",
       "\n",
       "    .dataframe tbody tr th {\n",
       "        vertical-align: top;\n",
       "    }\n",
       "\n",
       "    .dataframe thead th {\n",
       "        text-align: right;\n",
       "    }\n",
       "</style>\n",
       "<table border=\"1\" class=\"dataframe\">\n",
       "  <thead>\n",
       "    <tr style=\"text-align: right;\">\n",
       "      <th></th>\n",
       "      <th>Unnamed: 0</th>\n",
       "      <th>Datetime</th>\n",
       "      <th>Tweet Id</th>\n",
       "      <th>Text</th>\n",
       "      <th>Username</th>\n",
       "      <th>Probability</th>\n",
       "      <th>Sentiment</th>\n",
       "    </tr>\n",
       "  </thead>\n",
       "  <tbody>\n",
       "    <tr>\n",
       "      <th>0</th>\n",
       "      <td>0</td>\n",
       "      <td>2021-02-26 23:59:16+00:00</td>\n",
       "      <td>1365451398435987456</td>\n",
       "      <td>@CygnusSlaughter @CLSGL1 @dchaill @Sarvy803213...</td>\n",
       "      <td>RubyEggRollz</td>\n",
       "      <td>0.924383</td>\n",
       "      <td>NEGATIVE</td>\n",
       "    </tr>\n",
       "    <tr>\n",
       "      <th>1</th>\n",
       "      <td>1</td>\n",
       "      <td>2021-02-26 23:59:07+00:00</td>\n",
       "      <td>1365451357109510145</td>\n",
       "      <td>If #HCMC hits a $1 within a few months I’m buy...</td>\n",
       "      <td>KChistiansen</td>\n",
       "      <td>0.997976</td>\n",
       "      <td>NEGATIVE</td>\n",
       "    </tr>\n",
       "    <tr>\n",
       "      <th>2</th>\n",
       "      <td>2</td>\n",
       "      <td>2021-02-26 23:58:23+00:00</td>\n",
       "      <td>1365451173939924994</td>\n",
       "      <td>@A_Woman_Speaks @elonmusk @Tesla I have a rush...</td>\n",
       "      <td>ET1HOME</td>\n",
       "      <td>0.999969</td>\n",
       "      <td>NEGATIVE</td>\n",
       "    </tr>\n",
       "    <tr>\n",
       "      <th>3</th>\n",
       "      <td>3</td>\n",
       "      <td>2021-02-26 23:58:23+00:00</td>\n",
       "      <td>1365451173877145600</td>\n",
       "      <td>@CLSGL1 @RubyEggRollz @dchaill @Sarvy80321399 ...</td>\n",
       "      <td>CygnusSlaughter</td>\n",
       "      <td>0.999651</td>\n",
       "      <td>NEGATIVE</td>\n",
       "    </tr>\n",
       "    <tr>\n",
       "      <th>4</th>\n",
       "      <td>4</td>\n",
       "      <td>2021-02-26 23:58:18+00:00</td>\n",
       "      <td>1365451152020672513</td>\n",
       "      <td>@BrianPBosche “Oh, We changed the product numb...</td>\n",
       "      <td>Asma_twiter</td>\n",
       "      <td>0.999011</td>\n",
       "      <td>NEGATIVE</td>\n",
       "    </tr>\n",
       "  </tbody>\n",
       "</table>\n",
       "</div>"
      ],
      "text/plain": [
       "   Unnamed: 0                   Datetime             Tweet Id  \\\n",
       "0           0  2021-02-26 23:59:16+00:00  1365451398435987456   \n",
       "1           1  2021-02-26 23:59:07+00:00  1365451357109510145   \n",
       "2           2  2021-02-26 23:58:23+00:00  1365451173939924994   \n",
       "3           3  2021-02-26 23:58:23+00:00  1365451173877145600   \n",
       "4           4  2021-02-26 23:58:18+00:00  1365451152020672513   \n",
       "\n",
       "                                                Text         Username  \\\n",
       "0  @CygnusSlaughter @CLSGL1 @dchaill @Sarvy803213...     RubyEggRollz   \n",
       "1  If #HCMC hits a $1 within a few months I’m buy...     KChistiansen   \n",
       "2  @A_Woman_Speaks @elonmusk @Tesla I have a rush...          ET1HOME   \n",
       "3  @CLSGL1 @RubyEggRollz @dchaill @Sarvy80321399 ...  CygnusSlaughter   \n",
       "4  @BrianPBosche “Oh, We changed the product numb...      Asma_twiter   \n",
       "\n",
       "   Probability Sentiment  \n",
       "0     0.924383  NEGATIVE  \n",
       "1     0.997976  NEGATIVE  \n",
       "2     0.999969  NEGATIVE  \n",
       "3     0.999651  NEGATIVE  \n",
       "4     0.999011  NEGATIVE  "
      ]
     },
     "execution_count": 93,
     "metadata": {},
     "output_type": "execute_result"
    }
   ],
   "source": [
    "tweets_df2.head()"
   ]
  },
  {
   "cell_type": "markdown",
   "metadata": {},
   "source": [
    "Save the dataframe into a csv if you need to"
   ]
  },
  {
   "cell_type": "code",
   "execution_count": 94,
   "metadata": {},
   "outputs": [],
   "source": [
    "#tweets_df2.to_csv(\"TeslaTweets5DaysSentiment.csv\")"
   ]
  },
  {
   "cell_type": "markdown",
   "metadata": {},
   "source": [
    "This shows us we have roughly the same number of positive and negative tweets"
   ]
  },
  {
   "cell_type": "code",
   "execution_count": 96,
   "metadata": {},
   "outputs": [
    {
     "data": {
      "text/plain": [
       "POSITIVE    15771\n",
       "NEGATIVE    15261\n",
       "Name: Sentiment, dtype: int64"
      ]
     },
     "execution_count": 96,
     "metadata": {},
     "output_type": "execute_result"
    }
   ],
   "source": [
    "# Show the number of POSITIVE and NEGATIVE tweets\n",
    "tweets_df2['Sentiment'].value_counts()"
   ]
  },
  {
   "cell_type": "code",
   "execution_count": null,
   "metadata": {},
   "outputs": [],
   "source": []
  },
  {
   "cell_type": "code",
   "execution_count": 2,
   "metadata": {},
   "outputs": [],
   "source": [
    "#tweets = pd.read_csv(\"TeslaTweets5DaysSentiment.csv\")"
   ]
  },
  {
   "cell_type": "code",
   "execution_count": 4,
   "metadata": {},
   "outputs": [
    {
     "data": {
      "text/html": [
       "<div>\n",
       "<style scoped>\n",
       "    .dataframe tbody tr th:only-of-type {\n",
       "        vertical-align: middle;\n",
       "    }\n",
       "\n",
       "    .dataframe tbody tr th {\n",
       "        vertical-align: top;\n",
       "    }\n",
       "\n",
       "    .dataframe thead th {\n",
       "        text-align: right;\n",
       "    }\n",
       "</style>\n",
       "<table border=\"1\" class=\"dataframe\">\n",
       "  <thead>\n",
       "    <tr style=\"text-align: right;\">\n",
       "      <th></th>\n",
       "      <th>Unnamed: 0</th>\n",
       "      <th>Unnamed: 0.1</th>\n",
       "      <th>Datetime</th>\n",
       "      <th>Tweet Id</th>\n",
       "      <th>Text</th>\n",
       "      <th>Username</th>\n",
       "      <th>Probability</th>\n",
       "      <th>Sentiment</th>\n",
       "    </tr>\n",
       "  </thead>\n",
       "  <tbody>\n",
       "    <tr>\n",
       "      <th>31027</th>\n",
       "      <td>31027</td>\n",
       "      <td>31027</td>\n",
       "      <td>2021-02-22 00:00:40+00:00</td>\n",
       "      <td>1363639810829606912</td>\n",
       "      <td>⚡️ “Elon Musk needs to come clean on Tesla’s e...</td>\n",
       "      <td>PaulBirkeland</td>\n",
       "      <td>0.960687</td>\n",
       "      <td>NEGATIVE</td>\n",
       "    </tr>\n",
       "    <tr>\n",
       "      <th>31028</th>\n",
       "      <td>31028</td>\n",
       "      <td>31028</td>\n",
       "      <td>2021-02-22 00:00:30+00:00</td>\n",
       "      <td>1363639768039518210</td>\n",
       "      <td>Excited to buy a #Cybertruck with my #dogecoin...</td>\n",
       "      <td>DogecoinDawwww1</td>\n",
       "      <td>0.986124</td>\n",
       "      <td>POSITIVE</td>\n",
       "    </tr>\n",
       "    <tr>\n",
       "      <th>31029</th>\n",
       "      <td>31029</td>\n",
       "      <td>31029</td>\n",
       "      <td>2021-02-22 00:00:29+00:00</td>\n",
       "      <td>1363639765522817026</td>\n",
       "      <td>@Tesla @elonmusk when did y’all get into teeth...</td>\n",
       "      <td>SelfFarrell</td>\n",
       "      <td>0.994464</td>\n",
       "      <td>NEGATIVE</td>\n",
       "    </tr>\n",
       "    <tr>\n",
       "      <th>31030</th>\n",
       "      <td>31030</td>\n",
       "      <td>31030</td>\n",
       "      <td>2021-02-22 00:00:23+00:00</td>\n",
       "      <td>1363639738125615105</td>\n",
       "      <td>@Tesla @elonmusk You need a lot of silver to k...</td>\n",
       "      <td>michael57488958</td>\n",
       "      <td>0.986380</td>\n",
       "      <td>POSITIVE</td>\n",
       "    </tr>\n",
       "    <tr>\n",
       "      <th>31031</th>\n",
       "      <td>31031</td>\n",
       "      <td>31031</td>\n",
       "      <td>2021-02-22 00:00:11+00:00</td>\n",
       "      <td>1363639686720327687</td>\n",
       "      <td>@elonmusk Tesla made 900 million on BTC and Bi...</td>\n",
       "      <td>Jad57337075</td>\n",
       "      <td>0.999357</td>\n",
       "      <td>NEGATIVE</td>\n",
       "    </tr>\n",
       "  </tbody>\n",
       "</table>\n",
       "</div>"
      ],
      "text/plain": [
       "       Unnamed: 0  Unnamed: 0.1                   Datetime  \\\n",
       "31027       31027         31027  2021-02-22 00:00:40+00:00   \n",
       "31028       31028         31028  2021-02-22 00:00:30+00:00   \n",
       "31029       31029         31029  2021-02-22 00:00:29+00:00   \n",
       "31030       31030         31030  2021-02-22 00:00:23+00:00   \n",
       "31031       31031         31031  2021-02-22 00:00:11+00:00   \n",
       "\n",
       "                  Tweet Id                                               Text  \\\n",
       "31027  1363639810829606912  ⚡️ “Elon Musk needs to come clean on Tesla’s e...   \n",
       "31028  1363639768039518210  Excited to buy a #Cybertruck with my #dogecoin...   \n",
       "31029  1363639765522817026  @Tesla @elonmusk when did y’all get into teeth...   \n",
       "31030  1363639738125615105  @Tesla @elonmusk You need a lot of silver to k...   \n",
       "31031  1363639686720327687  @elonmusk Tesla made 900 million on BTC and Bi...   \n",
       "\n",
       "              Username  Probability Sentiment  \n",
       "31027    PaulBirkeland     0.960687  NEGATIVE  \n",
       "31028  DogecoinDawwww1     0.986124  POSITIVE  \n",
       "31029      SelfFarrell     0.994464  NEGATIVE  \n",
       "31030  michael57488958     0.986380  POSITIVE  \n",
       "31031      Jad57337075     0.999357  NEGATIVE  "
      ]
     },
     "execution_count": 4,
     "metadata": {},
     "output_type": "execute_result"
    }
   ],
   "source": [
    "tweets.tail()"
   ]
  },
  {
   "cell_type": "code",
   "execution_count": 5,
   "metadata": {},
   "outputs": [
    {
     "data": {
      "text/plain": [
       "31032"
      ]
     },
     "execution_count": 5,
     "metadata": {},
     "output_type": "execute_result"
    }
   ],
   "source": [
    "len(tweets)"
   ]
  },
  {
   "cell_type": "raw",
   "metadata": {},
   "source": [
    "Our DateTime column is of object type. Let's convert it into a DateTime object"
   ]
  },
  {
   "cell_type": "code",
   "execution_count": 6,
   "metadata": {},
   "outputs": [
    {
     "data": {
      "text/plain": [
       "dtype('O')"
      ]
     },
     "execution_count": 6,
     "metadata": {},
     "output_type": "execute_result"
    }
   ],
   "source": [
    "tweets['Datetime'].dtype"
   ]
  },
  {
   "cell_type": "code",
   "execution_count": 3,
   "metadata": {},
   "outputs": [],
   "source": [
    "# Convert the \"Datetime\" column from an object to a Datetime object\n",
    "tweets['Datetime'] = pd.to_datetime(tweets['Datetime'])"
   ]
  },
  {
   "cell_type": "code",
   "execution_count": 140,
   "metadata": {},
   "outputs": [],
   "source": [
    "tweets['Datetime'] = tweets['Datetime'].astype('str')"
   ]
  },
  {
   "cell_type": "code",
   "execution_count": 8,
   "metadata": {},
   "outputs": [
    {
     "data": {
      "text/plain": [
       "datetime64[ns, UTC]"
      ]
     },
     "execution_count": 8,
     "metadata": {},
     "output_type": "execute_result"
    }
   ],
   "source": [
    "# \"Datetime\" column is now a datime object\n",
    "tweets['Datetime'].dtype"
   ]
  },
  {
   "cell_type": "code",
   "execution_count": 9,
   "metadata": {},
   "outputs": [],
   "source": [
    "sum = [0.0, 0.0, 0.0, 0.0, 0.0]"
   ]
  },
  {
   "cell_type": "code",
   "execution_count": 4,
   "metadata": {},
   "outputs": [],
   "source": [
    "# Add an empty score column to the dataframe\n",
    "score_array = np.empty(len(tweets))\n",
    "tweets['Score'] = score_array"
   ]
  },
  {
   "cell_type": "code",
   "execution_count": null,
   "metadata": {},
   "outputs": [],
   "source": [
    "Instead of taking +1 for positive and -1 for negative sentiment, let us take the probability of the sentiment (with negative and positive value for positive and negative sentiment) as the score instead\n",
    "This ensures that when the model was not able to accurately determine the sentiment, it won't have much effect on the final score"
   ]
  },
  {
   "cell_type": "code",
   "execution_count": 5,
   "metadata": {},
   "outputs": [],
   "source": [
    "# Go through the dataframe and for POSITIVE tweets add the probability and for NEGATIVE tweets subtract the probability as the score\n",
    "for index in tweets.index:\n",
    "    if(tweets.at[index, 'Sentiment'] == \"POSITIVE\"):\n",
    "        tweets.at[index, 'Score'] = tweets.at[index, 'Probability']\n",
    "    elif(tweets.at[index, 'Sentiment'] == \"NEGATIVE\"):\n",
    "        tweets.at[index, 'Score'] = -tweets.at[index, 'Probability']"
   ]
  },
  {
   "cell_type": "code",
   "execution_count": 6,
   "metadata": {},
   "outputs": [
    {
     "data": {
      "text/html": [
       "<div>\n",
       "<style scoped>\n",
       "    .dataframe tbody tr th:only-of-type {\n",
       "        vertical-align: middle;\n",
       "    }\n",
       "\n",
       "    .dataframe tbody tr th {\n",
       "        vertical-align: top;\n",
       "    }\n",
       "\n",
       "    .dataframe thead th {\n",
       "        text-align: right;\n",
       "    }\n",
       "</style>\n",
       "<table border=\"1\" class=\"dataframe\">\n",
       "  <thead>\n",
       "    <tr style=\"text-align: right;\">\n",
       "      <th></th>\n",
       "      <th>Unnamed: 0</th>\n",
       "      <th>Unnamed: 0.1</th>\n",
       "      <th>Datetime</th>\n",
       "      <th>Tweet Id</th>\n",
       "      <th>Text</th>\n",
       "      <th>Username</th>\n",
       "      <th>Probability</th>\n",
       "      <th>Sentiment</th>\n",
       "      <th>Score</th>\n",
       "    </tr>\n",
       "  </thead>\n",
       "  <tbody>\n",
       "    <tr>\n",
       "      <th>31027</th>\n",
       "      <td>31027</td>\n",
       "      <td>31027</td>\n",
       "      <td>2021-02-22 00:00:40+00:00</td>\n",
       "      <td>1363639810829606912</td>\n",
       "      <td>⚡️ “Elon Musk needs to come clean on Tesla’s e...</td>\n",
       "      <td>PaulBirkeland</td>\n",
       "      <td>0.960687</td>\n",
       "      <td>NEGATIVE</td>\n",
       "      <td>-0.960687</td>\n",
       "    </tr>\n",
       "    <tr>\n",
       "      <th>31028</th>\n",
       "      <td>31028</td>\n",
       "      <td>31028</td>\n",
       "      <td>2021-02-22 00:00:30+00:00</td>\n",
       "      <td>1363639768039518210</td>\n",
       "      <td>Excited to buy a #Cybertruck with my #dogecoin...</td>\n",
       "      <td>DogecoinDawwww1</td>\n",
       "      <td>0.986124</td>\n",
       "      <td>POSITIVE</td>\n",
       "      <td>0.986124</td>\n",
       "    </tr>\n",
       "    <tr>\n",
       "      <th>31029</th>\n",
       "      <td>31029</td>\n",
       "      <td>31029</td>\n",
       "      <td>2021-02-22 00:00:29+00:00</td>\n",
       "      <td>1363639765522817026</td>\n",
       "      <td>@Tesla @elonmusk when did y’all get into teeth...</td>\n",
       "      <td>SelfFarrell</td>\n",
       "      <td>0.994464</td>\n",
       "      <td>NEGATIVE</td>\n",
       "      <td>-0.994464</td>\n",
       "    </tr>\n",
       "    <tr>\n",
       "      <th>31030</th>\n",
       "      <td>31030</td>\n",
       "      <td>31030</td>\n",
       "      <td>2021-02-22 00:00:23+00:00</td>\n",
       "      <td>1363639738125615105</td>\n",
       "      <td>@Tesla @elonmusk You need a lot of silver to k...</td>\n",
       "      <td>michael57488958</td>\n",
       "      <td>0.986380</td>\n",
       "      <td>POSITIVE</td>\n",
       "      <td>0.986380</td>\n",
       "    </tr>\n",
       "    <tr>\n",
       "      <th>31031</th>\n",
       "      <td>31031</td>\n",
       "      <td>31031</td>\n",
       "      <td>2021-02-22 00:00:11+00:00</td>\n",
       "      <td>1363639686720327687</td>\n",
       "      <td>@elonmusk Tesla made 900 million on BTC and Bi...</td>\n",
       "      <td>Jad57337075</td>\n",
       "      <td>0.999357</td>\n",
       "      <td>NEGATIVE</td>\n",
       "      <td>-0.999357</td>\n",
       "    </tr>\n",
       "  </tbody>\n",
       "</table>\n",
       "</div>"
      ],
      "text/plain": [
       "       Unnamed: 0  Unnamed: 0.1                  Datetime  \\\n",
       "31027       31027         31027 2021-02-22 00:00:40+00:00   \n",
       "31028       31028         31028 2021-02-22 00:00:30+00:00   \n",
       "31029       31029         31029 2021-02-22 00:00:29+00:00   \n",
       "31030       31030         31030 2021-02-22 00:00:23+00:00   \n",
       "31031       31031         31031 2021-02-22 00:00:11+00:00   \n",
       "\n",
       "                  Tweet Id                                               Text  \\\n",
       "31027  1363639810829606912  ⚡️ “Elon Musk needs to come clean on Tesla’s e...   \n",
       "31028  1363639768039518210  Excited to buy a #Cybertruck with my #dogecoin...   \n",
       "31029  1363639765522817026  @Tesla @elonmusk when did y’all get into teeth...   \n",
       "31030  1363639738125615105  @Tesla @elonmusk You need a lot of silver to k...   \n",
       "31031  1363639686720327687  @elonmusk Tesla made 900 million on BTC and Bi...   \n",
       "\n",
       "              Username  Probability Sentiment     Score  \n",
       "31027    PaulBirkeland     0.960687  NEGATIVE -0.960687  \n",
       "31028  DogecoinDawwww1     0.986124  POSITIVE  0.986124  \n",
       "31029      SelfFarrell     0.994464  NEGATIVE -0.994464  \n",
       "31030  michael57488958     0.986380  POSITIVE  0.986380  \n",
       "31031      Jad57337075     0.999357  NEGATIVE -0.999357  "
      ]
     },
     "execution_count": 6,
     "metadata": {},
     "output_type": "execute_result"
    }
   ],
   "source": [
    "tweets.tail()"
   ]
  },
  {
   "cell_type": "markdown",
   "metadata": {},
   "source": [
    "Go through the whole time period from when the tweets were collected and sum up the sentiment scores for each hour"
   ]
  },
  {
   "cell_type": "code",
   "execution_count": 7,
   "metadata": {},
   "outputs": [
    {
     "data": {
      "text/plain": [
       "Datetime\n",
       "2021-02-22 00:00:00+00:00    24.506831\n",
       "2021-02-22 01:00:00+00:00    10.413106\n",
       "2021-02-22 02:00:00+00:00    26.462695\n",
       "2021-02-22 03:00:00+00:00     4.257995\n",
       "2021-02-22 04:00:00+00:00    11.605024\n",
       "                               ...    \n",
       "2021-02-26 19:00:00+00:00     9.899957\n",
       "2021-02-26 20:00:00+00:00     3.744740\n",
       "2021-02-26 21:00:00+00:00    20.996932\n",
       "2021-02-26 22:00:00+00:00     1.897933\n",
       "2021-02-26 23:00:00+00:00     7.214078\n",
       "Freq: H, Name: Score, Length: 120, dtype: float64"
      ]
     },
     "execution_count": 7,
     "metadata": {},
     "output_type": "execute_result"
    }
   ],
   "source": [
    "# Sum up the scores according to each hour\n",
    "total = tweets.resample('H', on='Datetime').Score.sum()\n",
    "total"
   ]
  },
  {
   "cell_type": "markdown",
   "metadata": {},
   "source": [
    "If you're collecting tweets over many days/months it'd be better to sum the sentiments on a daily basis"
   ]
  },
  {
   "cell_type": "code",
   "execution_count": 8,
   "metadata": {},
   "outputs": [
    {
     "data": {
      "text/plain": [
       "Datetime\n",
       "2021-02-22 00:00:00+00:00     39.400125\n",
       "2021-02-23 00:00:00+00:00   -675.933249\n",
       "2021-02-24 00:00:00+00:00    306.949269\n",
       "2021-02-25 00:00:00+00:00    388.522158\n",
       "2021-02-26 00:00:00+00:00    195.155528\n",
       "Freq: D, Name: Score, dtype: float64"
      ]
     },
     "execution_count": 8,
     "metadata": {},
     "output_type": "execute_result"
    }
   ],
   "source": [
    "# Sum up the scores according to each day (For finding correlation)\n",
    "total_day = tweets.resample('D', on='Datetime').Score.sum()\n",
    "total_day"
   ]
  },
  {
   "cell_type": "code",
   "execution_count": 163,
   "metadata": {},
   "outputs": [],
   "source": [
    "####\n",
    "\"\"\"\n",
    "for index in tweets.index:\n",
    "    if(tweets.at[index, 'Datetime'][:10] == \"2021-02-22\"):\n",
    "        if(tweets.at[index, 'Sentiment'] == \"Positive\"):\n",
    "            sum[0]-= tweets.at[index, 'Probability']\n",
    "        else:\n",
    "            sum[0]+= tweets.at[index, 'Probability']\n",
    "    elif(tweets.at[index, 'Datetime'][:10] == \"2021-02-23\"):\n",
    "        if(tweets.at[index, 'Sentiment'] == \"Positive\"):\n",
    "            sum[1]-= tweets.at[index, 'Probability']\n",
    "        else:\n",
    "            sum[1]+= tweets.at[index, 'Probability']\n",
    "    elif(tweets.at[index, 'Datetime'][:10] == \"2021-02-24\"):\n",
    "        if(tweets.at[index, 'Sentiment'] == \"Positive\"):\n",
    "            sum[2]-= tweets.at[index, 'Probability']\n",
    "        else:\n",
    "            sum[2]+= tweets.at[index, 'Probability']\n",
    "    elif(tweets.at[index, 'Datetime'][:10] == \"2021-02-25\"):\n",
    "        if(tweets.at[index, 'Sentiment'] == \"Positive\"):\n",
    "            sum[3]-= tweets.at[index, 'Probability']\n",
    "        else:\n",
    "            sum[3]+= tweets.at[index, 'Probability']\n",
    "    elif(tweets.at[index, 'Datetime'][:10] == \"2021-02-26\"):\n",
    "        if(tweets.at[index, 'Sentiment'] == \"Positive\"):\n",
    "            sum[4]-= tweets.at[index, 'Probability']\n",
    "        else:\n",
    "            sum[4]+= tweets.at[index, 'Probability']\n",
    "\"\"\""
   ]
  },
  {
   "cell_type": "code",
   "execution_count": 164,
   "metadata": {},
   "outputs": [
    {
     "data": {
      "text/plain": [
       "[5114.437059640884,\n",
       " 6528.743951797485,\n",
       " 5167.063297152519,\n",
       " 7033.327100455761,\n",
       " 4410.595548808575]"
      ]
     },
     "execution_count": 164,
     "metadata": {},
     "output_type": "execute_result"
    }
   ],
   "source": [
    "#sum"
   ]
  },
  {
   "cell_type": "code",
   "execution_count": 9,
   "metadata": {},
   "outputs": [],
   "source": [
    "import matplotlib.pyplot as plt"
   ]
  },
  {
   "cell_type": "code",
   "execution_count": 167,
   "metadata": {},
   "outputs": [
    {
     "data": {
      "text/plain": [
       "[<matplotlib.lines.Line2D at 0x23b8d205e80>]"
      ]
     },
     "execution_count": 167,
     "metadata": {},
     "output_type": "execute_result"
    },
    {
     "data": {
      "image/png": "[encoded data removed]",
      "text/plain": [
       "<Figure size 432x288 with 1 Axes>"
      ]
     },
     "metadata": {
      "needs_background": "light"
     },
     "output_type": "display_data"
    }
   ],
   "source": [
    "# Plotting the sentiment on a day basis\n",
    "#plt.plot([22,23,24,25,26], sum)"
   ]
  },
  {
   "cell_type": "code",
   "execution_count": 38,
   "metadata": {
    "scrolled": true
   },
   "outputs": [
    {
     "data": {
      "text/plain": [
       "count    120.000000\n",
       "mean       2.117449\n",
       "std       29.549870\n",
       "min     -145.598581\n",
       "25%       -9.194917\n",
       "50%        3.577758\n",
       "75%       20.755786\n",
       "max       77.080800\n",
       "Name: Score, dtype: float64"
      ]
     },
     "execution_count": 38,
     "metadata": {},
     "output_type": "execute_result"
    }
   ],
   "source": [
    "total.describe()"
   ]
  },
  {
   "cell_type": "markdown",
   "metadata": {},
   "source": [
    "Since the sentiment of the people in this period seems to be low, let's add an arbitrary value to make its graph prettier"
   ]
  },
  {
   "cell_type": "code",
   "execution_count": 15,
   "metadata": {},
   "outputs": [],
   "source": [
    "total+=800"
   ]
  },
  {
   "cell_type": "markdown",
   "metadata": {},
   "source": [
    "Lets plot the hourly sums to observe the changes in the peoples sentiment on an hourly basis\n",
    "As you can see, there was a sharp decline of the peoples sentiment on 23/02/21"
   ]
  },
  {
   "cell_type": "code",
   "execution_count": 10,
   "metadata": {},
   "outputs": [
    {
     "data": {
      "text/plain": [
       "[<matplotlib.lines.Line2D at 0x2236c335340>]"
      ]
     },
     "execution_count": 10,
     "metadata": {},
     "output_type": "execute_result"
    },
    {
     "data": {
      "image/png": "[encoded data removed]",
      "text/plain": [
       "<Figure size 432x288 with 1 Axes>"
      ]
     },
     "metadata": {
      "needs_background": "light"
     },
     "output_type": "display_data"
    }
   ],
   "source": [
    "# Plot the sentiment score model\n",
    "plt.plot(total)"
   ]
  },
  {
   "cell_type": "code",
   "execution_count": null,
   "metadata": {},
   "outputs": [],
   "source": []
  },
  {
   "cell_type": "code",
   "execution_count": 22,
   "metadata": {},
   "outputs": [
    {
     "data": {
      "text/plain": [
       "Timestamp('2021-02-26 23:59:16+0000', tz='UTC')"
      ]
     },
     "execution_count": 22,
     "metadata": {},
     "output_type": "execute_result"
    }
   ],
   "source": [
    "tweets['Datetime'].max()"
   ]
  },
  {
   "cell_type": "markdown",
   "metadata": {},
   "source": [
    "Now that we have the peoples sentiment lets compare it the actual stock prices"
   ]
  },
  {
   "cell_type": "code",
   "execution_count": 11,
   "metadata": {},
   "outputs": [],
   "source": [
    "# Import the Yahoo Finance library to get stock prices\n",
    "import yfinance as yf"
   ]
  },
  {
   "cell_type": "code",
   "execution_count": 12,
   "metadata": {},
   "outputs": [],
   "source": [
    "# Get tsla stock prices from 22/02/21 to 01/03/21\n",
    "tsla = yf.Ticker(\"TSLA\")\n",
    "tsla_stock = tsla.history(\n",
    "    start=\"2021-02-22\",\n",
    "    end=\"2021-03-01\",\n",
    "    interval='60m'\n",
    ").reset_index()"
   ]
  },
  {
   "cell_type": "code",
   "execution_count": 54,
   "metadata": {},
   "outputs": [
    {
     "data": {
      "text/html": [
       "<div>\n",
       "<style scoped>\n",
       "    .dataframe tbody tr th:only-of-type {\n",
       "        vertical-align: middle;\n",
       "    }\n",
       "\n",
       "    .dataframe tbody tr th {\n",
       "        vertical-align: top;\n",
       "    }\n",
       "\n",
       "    .dataframe thead th {\n",
       "        text-align: right;\n",
       "    }\n",
       "</style>\n",
       "<table border=\"1\" class=\"dataframe\">\n",
       "  <thead>\n",
       "    <tr style=\"text-align: right;\">\n",
       "      <th></th>\n",
       "      <th>Date</th>\n",
       "      <th>Open</th>\n",
       "      <th>High</th>\n",
       "      <th>Low</th>\n",
       "      <th>Close</th>\n",
       "      <th>Volume</th>\n",
       "      <th>Dividends</th>\n",
       "      <th>Stock Splits</th>\n",
       "    </tr>\n",
       "  </thead>\n",
       "  <tbody>\n",
       "    <tr>\n",
       "      <th>0</th>\n",
       "      <td>2021-02-22</td>\n",
       "      <td>762.640015</td>\n",
       "      <td>768.500000</td>\n",
       "      <td>710.200012</td>\n",
       "      <td>714.500000</td>\n",
       "      <td>37269700</td>\n",
       "      <td>0</td>\n",
       "      <td>0</td>\n",
       "    </tr>\n",
       "    <tr>\n",
       "      <th>1</th>\n",
       "      <td>2021-02-23</td>\n",
       "      <td>662.130005</td>\n",
       "      <td>713.609985</td>\n",
       "      <td>619.000000</td>\n",
       "      <td>698.840027</td>\n",
       "      <td>66606900</td>\n",
       "      <td>0</td>\n",
       "      <td>0</td>\n",
       "    </tr>\n",
       "    <tr>\n",
       "      <th>2</th>\n",
       "      <td>2021-02-24</td>\n",
       "      <td>711.849976</td>\n",
       "      <td>745.000000</td>\n",
       "      <td>694.169983</td>\n",
       "      <td>742.020020</td>\n",
       "      <td>36767000</td>\n",
       "      <td>0</td>\n",
       "      <td>0</td>\n",
       "    </tr>\n",
       "    <tr>\n",
       "      <th>3</th>\n",
       "      <td>2021-02-25</td>\n",
       "      <td>726.150024</td>\n",
       "      <td>737.210022</td>\n",
       "      <td>670.580017</td>\n",
       "      <td>682.219971</td>\n",
       "      <td>39023900</td>\n",
       "      <td>0</td>\n",
       "      <td>0</td>\n",
       "    </tr>\n",
       "    <tr>\n",
       "      <th>4</th>\n",
       "      <td>2021-02-26</td>\n",
       "      <td>700.000000</td>\n",
       "      <td>706.700012</td>\n",
       "      <td>659.510010</td>\n",
       "      <td>675.500000</td>\n",
       "      <td>41011300</td>\n",
       "      <td>0</td>\n",
       "      <td>0</td>\n",
       "    </tr>\n",
       "  </tbody>\n",
       "</table>\n",
       "</div>"
      ],
      "text/plain": [
       "        Date        Open        High         Low       Close    Volume  \\\n",
       "0 2021-02-22  762.640015  768.500000  710.200012  714.500000  37269700   \n",
       "1 2021-02-23  662.130005  713.609985  619.000000  698.840027  66606900   \n",
       "2 2021-02-24  711.849976  745.000000  694.169983  742.020020  36767000   \n",
       "3 2021-02-25  726.150024  737.210022  670.580017  682.219971  39023900   \n",
       "4 2021-02-26  700.000000  706.700012  659.510010  675.500000  41011300   \n",
       "\n",
       "   Dividends  Stock Splits  \n",
       "0          0             0  \n",
       "1          0             0  \n",
       "2          0             0  \n",
       "3          0             0  \n",
       "4          0             0  "
      ]
     },
     "execution_count": 54,
     "metadata": {},
     "output_type": "execute_result"
    }
   ],
   "source": [
    "tsla_stock"
   ]
  },
  {
   "cell_type": "markdown",
   "metadata": {},
   "source": [
    "Lets get the stock details on an hourly basis"
   ]
  },
  {
   "cell_type": "code",
   "execution_count": 15,
   "metadata": {},
   "outputs": [],
   "source": [
    "tsla = yf.Ticker(\"TSLA\")\n",
    "tsla_stock = tsla.history(\n",
    "    start=(tweets['Datetime'].min()).strftime('%Y-%m-%d'),\n",
    "    end=tweets['Datetime'].max().strftime('%Y-%m-%d'),\n",
    "    interval='60m'\n",
    ").reset_index()"
   ]
  },
  {
   "cell_type": "code",
   "execution_count": 18,
   "metadata": {},
   "outputs": [
    {
     "data": {
      "text/html": [
       "<div>\n",
       "<style scoped>\n",
       "    .dataframe tbody tr th:only-of-type {\n",
       "        vertical-align: middle;\n",
       "    }\n",
       "\n",
       "    .dataframe tbody tr th {\n",
       "        vertical-align: top;\n",
       "    }\n",
       "\n",
       "    .dataframe thead th {\n",
       "        text-align: right;\n",
       "    }\n",
       "</style>\n",
       "<table border=\"1\" class=\"dataframe\">\n",
       "  <thead>\n",
       "    <tr style=\"text-align: right;\">\n",
       "      <th></th>\n",
       "      <th>Datetime</th>\n",
       "      <th>Open</th>\n",
       "      <th>High</th>\n",
       "      <th>Low</th>\n",
       "      <th>Close</th>\n",
       "      <th>Volume</th>\n",
       "      <th>Dividends</th>\n",
       "      <th>Stock Splits</th>\n",
       "    </tr>\n",
       "  </thead>\n",
       "  <tbody>\n",
       "    <tr>\n",
       "      <th>0</th>\n",
       "      <td>2021-02-22 09:30:00-05:00</td>\n",
       "      <td>762.640015</td>\n",
       "      <td>768.320007</td>\n",
       "      <td>751.130005</td>\n",
       "      <td>752.949219</td>\n",
       "      <td>8400327</td>\n",
       "      <td>0</td>\n",
       "      <td>0</td>\n",
       "    </tr>\n",
       "    <tr>\n",
       "      <th>1</th>\n",
       "      <td>2021-02-22 10:30:00-05:00</td>\n",
       "      <td>752.950012</td>\n",
       "      <td>754.940002</td>\n",
       "      <td>735.000000</td>\n",
       "      <td>744.979980</td>\n",
       "      <td>8119527</td>\n",
       "      <td>0</td>\n",
       "      <td>0</td>\n",
       "    </tr>\n",
       "    <tr>\n",
       "      <th>2</th>\n",
       "      <td>2021-02-22 11:30:00-05:00</td>\n",
       "      <td>744.979980</td>\n",
       "      <td>749.900024</td>\n",
       "      <td>739.500000</td>\n",
       "      <td>741.049988</td>\n",
       "      <td>2545407</td>\n",
       "      <td>0</td>\n",
       "      <td>0</td>\n",
       "    </tr>\n",
       "    <tr>\n",
       "      <th>3</th>\n",
       "      <td>2021-02-22 12:30:00-05:00</td>\n",
       "      <td>741.150024</td>\n",
       "      <td>746.091003</td>\n",
       "      <td>739.358582</td>\n",
       "      <td>743.219971</td>\n",
       "      <td>2134844</td>\n",
       "      <td>0</td>\n",
       "      <td>0</td>\n",
       "    </tr>\n",
       "    <tr>\n",
       "      <th>4</th>\n",
       "      <td>2021-02-22 13:30:00-05:00</td>\n",
       "      <td>743.150024</td>\n",
       "      <td>745.390015</td>\n",
       "      <td>737.739990</td>\n",
       "      <td>738.000000</td>\n",
       "      <td>1934571</td>\n",
       "      <td>0</td>\n",
       "      <td>0</td>\n",
       "    </tr>\n",
       "    <tr>\n",
       "      <th>5</th>\n",
       "      <td>2021-02-22 14:30:00-05:00</td>\n",
       "      <td>737.770020</td>\n",
       "      <td>738.530029</td>\n",
       "      <td>719.549988</td>\n",
       "      <td>720.905029</td>\n",
       "      <td>5468306</td>\n",
       "      <td>0</td>\n",
       "      <td>0</td>\n",
       "    </tr>\n",
       "    <tr>\n",
       "      <th>6</th>\n",
       "      <td>2021-02-22 15:30:00-05:00</td>\n",
       "      <td>721.099976</td>\n",
       "      <td>723.500000</td>\n",
       "      <td>710.200012</td>\n",
       "      <td>714.710022</td>\n",
       "      <td>6510511</td>\n",
       "      <td>0</td>\n",
       "      <td>0</td>\n",
       "    </tr>\n",
       "    <tr>\n",
       "      <th>7</th>\n",
       "      <td>2021-02-23 09:30:00-05:00</td>\n",
       "      <td>662.130005</td>\n",
       "      <td>694.239990</td>\n",
       "      <td>619.000000</td>\n",
       "      <td>691.270020</td>\n",
       "      <td>29830758</td>\n",
       "      <td>0</td>\n",
       "      <td>0</td>\n",
       "    </tr>\n",
       "    <tr>\n",
       "      <th>8</th>\n",
       "      <td>2021-02-23 10:30:00-05:00</td>\n",
       "      <td>691.419983</td>\n",
       "      <td>708.989990</td>\n",
       "      <td>680.049988</td>\n",
       "      <td>687.130005</td>\n",
       "      <td>11994217</td>\n",
       "      <td>0</td>\n",
       "      <td>0</td>\n",
       "    </tr>\n",
       "    <tr>\n",
       "      <th>9</th>\n",
       "      <td>2021-02-23 11:30:00-05:00</td>\n",
       "      <td>687.049988</td>\n",
       "      <td>693.306702</td>\n",
       "      <td>668.820007</td>\n",
       "      <td>681.253418</td>\n",
       "      <td>6067487</td>\n",
       "      <td>0</td>\n",
       "      <td>0</td>\n",
       "    </tr>\n",
       "    <tr>\n",
       "      <th>10</th>\n",
       "      <td>2021-02-23 12:30:00-05:00</td>\n",
       "      <td>681.113525</td>\n",
       "      <td>692.950012</td>\n",
       "      <td>669.010010</td>\n",
       "      <td>691.594971</td>\n",
       "      <td>4605653</td>\n",
       "      <td>0</td>\n",
       "      <td>0</td>\n",
       "    </tr>\n",
       "    <tr>\n",
       "      <th>11</th>\n",
       "      <td>2021-02-23 13:30:00-05:00</td>\n",
       "      <td>691.935608</td>\n",
       "      <td>692.771484</td>\n",
       "      <td>680.789978</td>\n",
       "      <td>690.479980</td>\n",
       "      <td>3437522</td>\n",
       "      <td>0</td>\n",
       "      <td>0</td>\n",
       "    </tr>\n",
       "    <tr>\n",
       "      <th>12</th>\n",
       "      <td>2021-02-23 14:30:00-05:00</td>\n",
       "      <td>690.592224</td>\n",
       "      <td>712.093994</td>\n",
       "      <td>681.580017</td>\n",
       "      <td>711.717529</td>\n",
       "      <td>5137034</td>\n",
       "      <td>0</td>\n",
       "      <td>0</td>\n",
       "    </tr>\n",
       "    <tr>\n",
       "      <th>13</th>\n",
       "      <td>2021-02-23 15:30:00-05:00</td>\n",
       "      <td>711.719971</td>\n",
       "      <td>713.609924</td>\n",
       "      <td>695.706970</td>\n",
       "      <td>698.650024</td>\n",
       "      <td>3681467</td>\n",
       "      <td>0</td>\n",
       "      <td>0</td>\n",
       "    </tr>\n",
       "    <tr>\n",
       "      <th>14</th>\n",
       "      <td>2021-02-24 09:30:00-05:00</td>\n",
       "      <td>708.000000</td>\n",
       "      <td>724.859924</td>\n",
       "      <td>694.169983</td>\n",
       "      <td>711.210022</td>\n",
       "      <td>13737716</td>\n",
       "      <td>0</td>\n",
       "      <td>0</td>\n",
       "    </tr>\n",
       "    <tr>\n",
       "      <th>15</th>\n",
       "      <td>2021-02-24 10:30:00-05:00</td>\n",
       "      <td>710.885010</td>\n",
       "      <td>735.000000</td>\n",
       "      <td>708.000000</td>\n",
       "      <td>726.880005</td>\n",
       "      <td>6734314</td>\n",
       "      <td>0</td>\n",
       "      <td>0</td>\n",
       "    </tr>\n",
       "    <tr>\n",
       "      <th>16</th>\n",
       "      <td>2021-02-24 11:30:00-05:00</td>\n",
       "      <td>727.000000</td>\n",
       "      <td>736.799988</td>\n",
       "      <td>724.280029</td>\n",
       "      <td>736.799988</td>\n",
       "      <td>3908537</td>\n",
       "      <td>0</td>\n",
       "      <td>0</td>\n",
       "    </tr>\n",
       "    <tr>\n",
       "      <th>17</th>\n",
       "      <td>2021-02-24 12:30:00-05:00</td>\n",
       "      <td>736.780029</td>\n",
       "      <td>737.779907</td>\n",
       "      <td>726.320007</td>\n",
       "      <td>731.885010</td>\n",
       "      <td>3221397</td>\n",
       "      <td>0</td>\n",
       "      <td>0</td>\n",
       "    </tr>\n",
       "    <tr>\n",
       "      <th>18</th>\n",
       "      <td>2021-02-24 13:30:00-05:00</td>\n",
       "      <td>731.800110</td>\n",
       "      <td>734.339905</td>\n",
       "      <td>722.000000</td>\n",
       "      <td>727.150024</td>\n",
       "      <td>2972377</td>\n",
       "      <td>0</td>\n",
       "      <td>0</td>\n",
       "    </tr>\n",
       "    <tr>\n",
       "      <th>19</th>\n",
       "      <td>2021-02-24 14:30:00-05:00</td>\n",
       "      <td>727.439880</td>\n",
       "      <td>736.609985</td>\n",
       "      <td>725.000000</td>\n",
       "      <td>736.340027</td>\n",
       "      <td>2544486</td>\n",
       "      <td>0</td>\n",
       "      <td>0</td>\n",
       "    </tr>\n",
       "    <tr>\n",
       "      <th>20</th>\n",
       "      <td>2021-02-24 15:30:00-05:00</td>\n",
       "      <td>736.359985</td>\n",
       "      <td>745.000000</td>\n",
       "      <td>735.450012</td>\n",
       "      <td>742.020020</td>\n",
       "      <td>2852157</td>\n",
       "      <td>0</td>\n",
       "      <td>0</td>\n",
       "    </tr>\n",
       "    <tr>\n",
       "      <th>21</th>\n",
       "      <td>2021-02-25 09:30:00-05:00</td>\n",
       "      <td>724.000000</td>\n",
       "      <td>737.206604</td>\n",
       "      <td>716.599976</td>\n",
       "      <td>720.159973</td>\n",
       "      <td>7294770</td>\n",
       "      <td>0</td>\n",
       "      <td>0</td>\n",
       "    </tr>\n",
       "    <tr>\n",
       "      <th>22</th>\n",
       "      <td>2021-02-25 10:30:00-05:00</td>\n",
       "      <td>720.250000</td>\n",
       "      <td>721.799988</td>\n",
       "      <td>707.179993</td>\n",
       "      <td>714.950012</td>\n",
       "      <td>4550229</td>\n",
       "      <td>0</td>\n",
       "      <td>0</td>\n",
       "    </tr>\n",
       "    <tr>\n",
       "      <th>23</th>\n",
       "      <td>2021-02-25 11:30:00-05:00</td>\n",
       "      <td>714.809998</td>\n",
       "      <td>715.599976</td>\n",
       "      <td>687.460022</td>\n",
       "      <td>690.849976</td>\n",
       "      <td>6612687</td>\n",
       "      <td>0</td>\n",
       "      <td>0</td>\n",
       "    </tr>\n",
       "    <tr>\n",
       "      <th>24</th>\n",
       "      <td>2021-02-25 12:30:00-05:00</td>\n",
       "      <td>690.370117</td>\n",
       "      <td>704.521973</td>\n",
       "      <td>683.609985</td>\n",
       "      <td>701.869873</td>\n",
       "      <td>6438250</td>\n",
       "      <td>0</td>\n",
       "      <td>0</td>\n",
       "    </tr>\n",
       "  </tbody>\n",
       "</table>\n",
       "</div>"
      ],
      "text/plain": [
       "                    Datetime        Open        High         Low       Close  \\\n",
       "0  2021-02-22 09:30:00-05:00  762.640015  768.320007  751.130005  752.949219   \n",
       "1  2021-02-22 10:30:00-05:00  752.950012  754.940002  735.000000  744.979980   \n",
       "2  2021-02-22 11:30:00-05:00  744.979980  749.900024  739.500000  741.049988   \n",
       "3  2021-02-22 12:30:00-05:00  741.150024  746.091003  739.358582  743.219971   \n",
       "4  2021-02-22 13:30:00-05:00  743.150024  745.390015  737.739990  738.000000   \n",
       "5  2021-02-22 14:30:00-05:00  737.770020  738.530029  719.549988  720.905029   \n",
       "6  2021-02-22 15:30:00-05:00  721.099976  723.500000  710.200012  714.710022   \n",
       "7  2021-02-23 09:30:00-05:00  662.130005  694.239990  619.000000  691.270020   \n",
       "8  2021-02-23 10:30:00-05:00  691.419983  708.989990  680.049988  687.130005   \n",
       "9  2021-02-23 11:30:00-05:00  687.049988  693.306702  668.820007  681.253418   \n",
       "10 2021-02-23 12:30:00-05:00  681.113525  692.950012  669.010010  691.594971   \n",
       "11 2021-02-23 13:30:00-05:00  691.935608  692.771484  680.789978  690.479980   \n",
       "12 2021-02-23 14:30:00-05:00  690.592224  712.093994  681.580017  711.717529   \n",
       "13 2021-02-23 15:30:00-05:00  711.719971  713.609924  695.706970  698.650024   \n",
       "14 2021-02-24 09:30:00-05:00  708.000000  724.859924  694.169983  711.210022   \n",
       "15 2021-02-24 10:30:00-05:00  710.885010  735.000000  708.000000  726.880005   \n",
       "16 2021-02-24 11:30:00-05:00  727.000000  736.799988  724.280029  736.799988   \n",
       "17 2021-02-24 12:30:00-05:00  736.780029  737.779907  726.320007  731.885010   \n",
       "18 2021-02-24 13:30:00-05:00  731.800110  734.339905  722.000000  727.150024   \n",
       "19 2021-02-24 14:30:00-05:00  727.439880  736.609985  725.000000  736.340027   \n",
       "20 2021-02-24 15:30:00-05:00  736.359985  745.000000  735.450012  742.020020   \n",
       "21 2021-02-25 09:30:00-05:00  724.000000  737.206604  716.599976  720.159973   \n",
       "22 2021-02-25 10:30:00-05:00  720.250000  721.799988  707.179993  714.950012   \n",
       "23 2021-02-25 11:30:00-05:00  714.809998  715.599976  687.460022  690.849976   \n",
       "24 2021-02-25 12:30:00-05:00  690.370117  704.521973  683.609985  701.869873   \n",
       "\n",
       "      Volume  Dividends  Stock Splits  \n",
       "0    8400327          0             0  \n",
       "1    8119527          0             0  \n",
       "2    2545407          0             0  \n",
       "3    2134844          0             0  \n",
       "4    1934571          0             0  \n",
       "5    5468306          0             0  \n",
       "6    6510511          0             0  \n",
       "7   29830758          0             0  \n",
       "8   11994217          0             0  \n",
       "9    6067487          0             0  \n",
       "10   4605653          0             0  \n",
       "11   3437522          0             0  \n",
       "12   5137034          0             0  \n",
       "13   3681467          0             0  \n",
       "14  13737716          0             0  \n",
       "15   6734314          0             0  \n",
       "16   3908537          0             0  \n",
       "17   3221397          0             0  \n",
       "18   2972377          0             0  \n",
       "19   2544486          0             0  \n",
       "20   2852157          0             0  \n",
       "21   7294770          0             0  \n",
       "22   4550229          0             0  \n",
       "23   6612687          0             0  \n",
       "24   6438250          0             0  "
      ]
     },
     "execution_count": 18,
     "metadata": {},
     "output_type": "execute_result"
    }
   ],
   "source": [
    "tsla_stock"
   ]
  },
  {
   "cell_type": "markdown",
   "metadata": {},
   "source": [
    "Plot both the stock prices and the peoples sentiment on the same graph\n",
    "As you can see there is noticeable correlation between the two"
   ]
  },
  {
   "cell_type": "code",
   "execution_count": 16,
   "metadata": {},
   "outputs": [
    {
     "data": {
      "image/png": "[encoded data removed]",
      "text/plain": [
       "<Figure size 432x288 with 1 Axes>"
      ]
     },
     "metadata": {
      "needs_background": "light"
     },
     "output_type": "display_data"
    }
   ],
   "source": [
    "# Plot the Stock Price and Sentiment Variation line on the same plot to observe the relation\n",
    "plt.plot(tsla_stock['Datetime'], tsla_stock['Low'], label=\"Tesla Stock\")\n",
    "plt.plot(total, label=\"Twitter Sentiment\")\n",
    "plt.legend()\n",
    "plt.show()"
   ]
  },
  {
   "cell_type": "markdown",
   "metadata": {},
   "source": [
    "Lets find Persons Correlation Coefficient to find the degree of correlation"
   ]
  },
  {
   "cell_type": "code",
   "execution_count": 63,
   "metadata": {},
   "outputs": [
    {
     "data": {
      "text/plain": [
       "array([[1.        , 0.69344475],\n",
       "       [0.69344475, 1.        ]])"
      ]
     },
     "execution_count": 63,
     "metadata": {},
     "output_type": "execute_result"
    }
   ],
   "source": [
    "r = np.corrcoef(tsla_stock['Low'],total_day)\n",
    "r"
   ]
  },
  {
   "cell_type": "markdown",
   "metadata": {},
   "source": [
    "A correlation of about 0.7 indicates a strong correlation"
   ]
  },
  {
   "cell_type": "code",
   "execution_count": null,
   "metadata": {},
   "outputs": [],
   "source": [
    "In this case we looked at a precise period when peoples sentiment of Tesla on Twitter went crazy. We can observe that simultaneously, the stock price of Tesla tumbled.\n",
    "This model is useful to use in real time in the event something triggers the sentiment of the people towards a company/ stock to rise and fall as we can then expect a similar change in the stock prices"
   ]
  }
 ],
 "metadata": {
  "kernelspec": {
   "display_name": "Python 3",
   "language": "python",
   "name": "python3"
  },
  "language_info": {
   "codemirror_mode": {
    "name": "ipython",
    "version": 3
   },
   "file_extension": ".py",
   "mimetype": "text/x-python",
   "name": "python",
   "nbconvert_exporter": "python",
   "pygments_lexer": "ipython3",
   "version": "3.8.5"
  }
 },
 "nbformat": 4,
 "nbformat_minor": 4
}
